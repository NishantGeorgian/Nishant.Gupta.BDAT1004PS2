{
 "cells": [
  {
   "cell_type": "markdown",
   "id": "fb41de9a",
   "metadata": {},
   "source": [
    "### Name - Nishant Gupta\n",
    "\n",
    "### Subject - BDAT1004 - Data Programming Section B\n",
    "\n",
    "### Assignment Submission - Problem Set 2"
   ]
  },
  {
   "cell_type": "markdown",
   "id": "36b3aea2",
   "metadata": {},
   "source": [
    "#### Question - 1\n",
    "\n",
    "#### What value is displayed when the last expression (a) is evaluated? Explain your answer by indicating what happens in every executed statement"
   ]
  },
  {
   "cell_type": "code",
   "execution_count": 4,
   "id": "50e00fb9",
   "metadata": {},
   "outputs": [
    {
     "data": {
      "text/plain": [
       "6"
      ]
     },
     "execution_count": 4,
     "metadata": {},
     "output_type": "execute_result"
    }
   ],
   "source": [
    "# Code Explanation:\n",
    "    \n",
    "a = 0         # Value of a is initialised as 0\n",
    "def b():          # function b() is defined\n",
    "    global a         # variable \"a\" is converted to global variable\n",
    "    a = c(a)         # function c() is called and the value returned is assigned to \"a\". Value of a is increased by 2 everytime\n",
    " \n",
    "def c(a):         # function c() is defined\n",
    "    return a + 2     # returns the value of a+2 everytime the function is called. Example if a is 15, then 17 is returned\n",
    " \n",
    "b()               # function b() is called\n",
    "b()               # function b() is called\n",
    "b()               # function b() is called\n",
    "a                 # value of a is printed"
   ]
  },
  {
   "cell_type": "markdown",
   "id": "1a3decf6",
   "metadata": {},
   "source": [
    "##### Answer:\n",
    "Everytime function b() is called, it further calls function c() and the value of \"a\" is increased by 2. Initial value of \"a\" is 0. After calling the function b() 3 times, the value of \"a\" is now 6.\n",
    "Hence, 6 is printed."
   ]
  },
  {
   "cell_type": "markdown",
   "id": "87bc346a",
   "metadata": {},
   "source": [
    "#### Question - 2\n",
    "\n",
    "#### Function fileLength(), given to you, takes the name of a file as input and returns the length of the file mentioned. As shown above, if the file cannot be found by the interpreter or if it cannot be read as a text file, an exception will be raised. Modify function fileLength() so that a friendly message is printed instead."
   ]
  },
  {
   "cell_type": "code",
   "execution_count": 5,
   "id": "2e6fe3c0",
   "metadata": {},
   "outputs": [
    {
     "name": "stdout",
     "output_type": "stream",
     "text": [
      "123\n"
     ]
    }
   ],
   "source": [
    "def file_length(file_name):\n",
    "    try:\n",
    "        file = open(file_name)\n",
    "        contents = file.read()\n",
    "        file.close()\n",
    "        print(len(contents))\n",
    "    except:\n",
    "        print('File ' + file_name + ' is not found.')\n",
    "\n",
    "file_length('Filelength.txt')        "
   ]
  },
  {
   "cell_type": "code",
   "execution_count": 6,
   "id": "b943af02",
   "metadata": {},
   "outputs": [
    {
     "name": "stdout",
     "output_type": "stream",
     "text": [
      "File SampleFile.py is not found.\n"
     ]
    }
   ],
   "source": [
    "file_length('SampleFile.py')"
   ]
  },
  {
   "cell_type": "markdown",
   "id": "50c61881",
   "metadata": {},
   "source": [
    "##### Question - 3\n",
    "##### Write a class named Kangaroo as a subclass of Marsupial that inherits all the attributes of Marsupial"
   ]
  },
  {
   "cell_type": "code",
   "execution_count": 7,
   "id": "000b5a78",
   "metadata": {},
   "outputs": [
    {
     "name": "stdout",
     "output_type": "stream",
     "text": [
      "['doll', 'firetruck', 'kitten']\n"
     ]
    }
   ],
   "source": [
    "class Marsupial:\n",
    "\n",
    "    def __init__ (coor):\n",
    "        coor.mArray = []\n",
    "        \n",
    "    def put_in_pouch(coor,itemname):\n",
    "        return coor.mArray.append(itemname)\n",
    "    \n",
    "    def pouch_contents(coor):\n",
    "        print(coor.mArray)\n",
    "\n",
    "m = Marsupial()\n",
    "m.put_in_pouch('doll')\n",
    "m.put_in_pouch('firetruck')\n",
    "m.put_in_pouch('kitten')\n",
    "m.pouch_contents()"
   ]
  },
  {
   "cell_type": "code",
   "execution_count": 8,
   "id": "1b2acbb6",
   "metadata": {},
   "outputs": [
    {
     "name": "stdout",
     "output_type": "stream",
     "text": [
      "I am a Kangaroo located at coordinates (0,0)\n",
      "['doll', 'firetruck', 'kitten']\n",
      "I am a Kangaroo located at coordinates (3,0)\n"
     ]
    }
   ],
   "source": [
    "class Kangaroo(Marsupial):\n",
    "    \n",
    "    def __init__(coor,x,y):\n",
    "        coor.mArray= []\n",
    "        coor.x = x\n",
    "        coor.y = y\n",
    "    \n",
    "    def jump (coor,x,y):\n",
    "        coor.x += x\n",
    "        coor.y += y\n",
    "        \n",
    "    def __repr__(coor):\n",
    "        return('I am a Kangaroo located at coordinates (' + coor.x.__str__() + ',' + coor.y.__str__()+ ')')\n",
    "\n",
    "        \n",
    "k = Kangaroo(0,0)\n",
    "print(k)\n",
    "k.put_in_pouch('doll')\n",
    "k.put_in_pouch('firetruck')\n",
    "k.put_in_pouch('kitten')\n",
    "k.pouch_contents()\n",
    "k.jump(1,0)\n",
    "k.jump(1,0)\n",
    "k.jump(1,0)\n",
    "print(k)"
   ]
  },
  {
   "cell_type": "markdown",
   "id": "d3011176",
   "metadata": {},
   "source": [
    "##### Question - 4\n",
    "##### Write function collatz() that takes a positive integer x as input and prints the Collatz sequence starting at x. A Collatz sequence is obtained by repeatedly applying this rule to the previous number x in the sequence. Your function should stop when the sequence gets to number 1. Your implementation must be recursive, without any loops."
   ]
  },
  {
   "cell_type": "code",
   "execution_count": 9,
   "id": "8e6c1e97",
   "metadata": {},
   "outputs": [
    {
     "name": "stdout",
     "output_type": "stream",
     "text": [
      "1\n"
     ]
    }
   ],
   "source": [
    "def collatz(number):\n",
    "    if number == 1:\n",
    "        print(int(number))\n",
    "    elif number % 2 == 1:\n",
    "        print(int(number))\n",
    "        number = 3*number +1\n",
    "        collatz(number)        #recursion\n",
    "    else:\n",
    "        print(int(number))\n",
    "        number = number / 2\n",
    "        collatz(number)        #recursion\n",
    "        \n",
    "collatz(1)"
   ]
  },
  {
   "cell_type": "code",
   "execution_count": 10,
   "id": "6c712a88",
   "metadata": {},
   "outputs": [
    {
     "name": "stdout",
     "output_type": "stream",
     "text": [
      "10\n",
      "5\n",
      "16\n",
      "8\n",
      "4\n",
      "2\n",
      "1\n"
     ]
    }
   ],
   "source": [
    "collatz(10)"
   ]
  },
  {
   "cell_type": "markdown",
   "id": "36aa531f",
   "metadata": {},
   "source": [
    "##### Question - 5\n",
    "##### Write a recursive method binary() that takes a non-negative integer n and prints the binary representation of integer n.\n"
   ]
  },
  {
   "cell_type": "code",
   "execution_count": 11,
   "id": "ba3082d1",
   "metadata": {},
   "outputs": [
    {
     "name": "stdout",
     "output_type": "stream",
     "text": [
      "0\n"
     ]
    }
   ],
   "source": [
    "def binary(num):\n",
    "    if num == 0:\n",
    "        print(num)\n",
    "    elif num == 1:\n",
    "        print(num)\n",
    "    else:\n",
    "        print(num % 2, end=\"\")\n",
    "        binary(int(num/2))\n",
    "    \n",
    "\n",
    "binary(0) \n"
   ]
  },
  {
   "cell_type": "code",
   "execution_count": 12,
   "id": "0e2e414d",
   "metadata": {},
   "outputs": [
    {
     "name": "stdout",
     "output_type": "stream",
     "text": [
      "1\n"
     ]
    }
   ],
   "source": [
    "binary(1)"
   ]
  },
  {
   "cell_type": "code",
   "execution_count": 13,
   "id": "47dc4ec2",
   "metadata": {},
   "outputs": [
    {
     "name": "stdout",
     "output_type": "stream",
     "text": [
      "11\n"
     ]
    }
   ],
   "source": [
    "binary(3)"
   ]
  },
  {
   "cell_type": "code",
   "execution_count": 14,
   "id": "64c1cb87",
   "metadata": {},
   "outputs": [
    {
     "name": "stdout",
     "output_type": "stream",
     "text": [
      "1001\n"
     ]
    }
   ],
   "source": [
    "binary(9)"
   ]
  },
  {
   "cell_type": "markdown",
   "id": "b9e91078",
   "metadata": {},
   "source": [
    "##### Question - 6\n",
    "##### Implement a class named HeadingParser that can be used to parse an HTML document, and retrieve and print all the headings in the document. You should implement your class as a subclass of HTMLParser, defined in Standard Library module html.parser. When fed a string containing HTML code, your class should print the headings, one per line and in the order in which they appear in the document. Each heading should be indented as follows: an h1 heading should have indentation 0, and h2 heading should have indentation 1, etc. Test your implementation using w3c.html"
   ]
  },
  {
   "cell_type": "code",
   "execution_count": 15,
   "id": "6068814d",
   "metadata": {},
   "outputs": [
    {
     "name": "stdout",
     "output_type": "stream",
     "text": [
      "  W3C Mission \n",
      "  \n",
      "\t \n",
      "   Principles \n",
      "   \n",
      " \n",
      "\n",
      "\n",
      " \n"
     ]
    }
   ],
   "source": [
    "from html.parser import HTMLParser            # the library is imported and the standard library module htmlparser is defined\n",
    "\n",
    "file_name = open(r'w3c.html')     \n",
    "text=str(file_name.read())\n",
    "\n",
    "class HeadingParser(HTMLParser):         #creating the class HeadingParser as a subclass of HTMLParser\n",
    "  \n",
    "    def __init__(primary):                    \n",
    "        HTMLParser.__init__(primary)\n",
    "        primary.flag = 0 \n",
    "    \n",
    "    def handle_starttag(main, tagname, element):                     \n",
    "        \n",
    "        if tagname == 'h1' or tagname == 'h2' or tagname == 'h3' or tagname == 'h4' or tagname =='h5' or tagname == 'h6' or tagname == 'h7':\n",
    "            main.flag = main.flag + 1                                     \n",
    "        else:\n",
    "            main.flag = 0\n",
    "            \n",
    "    def handle_data(headingname, data):       #function to print the heading     \n",
    "        if headingname.flag and data!='\\n':\n",
    "            \n",
    "            print('{} {} '.format(headingname.flag*' ', data))\n",
    "\n",
    "\n",
    "p = HeadingParser()                          \n",
    "p.feed(text)"
   ]
  },
  {
   "cell_type": "markdown",
   "id": "ce12d8aa",
   "metadata": {},
   "source": [
    "##### Question - 7\n",
    "##### Implement recursive function webdir() that takes as input: a URL (as a string) and non-negative integers depth and indent. Your function should visit every web page reachable from the starting URL web page in depth clicks or less, and print each web page's URL. As shown below, indentation, specified by indent, should be used to indicate the depth of a URL."
   ]
  },
  {
   "cell_type": "code",
   "execution_count": 16,
   "id": "33bcdc51",
   "metadata": {},
   "outputs": [
    {
     "name": "stdout",
     "output_type": "stream",
     "text": [
      " https://reed.cs.depaul.edu/lperkovic/test1.html\n",
      "     http://reed.cs.depaul.edu/lperkovic/test2.html\n",
      "         http://reed.cs.depaul.edu/lperkovic/test4.html\n",
      "     https://reed.cs.depaul.edu/lperkovic/test3.html\n",
      "         https://reed.cs.depaul.edu/lperkovic/test4.html\n"
     ]
    }
   ],
   "source": [
    "from html.parser import HTMLParser    \n",
    "from urllib.request import urlopen\n",
    "from urllib.parse import urljoin\n",
    "\n",
    "class Web(HTMLParser):\n",
    "    \n",
    "\n",
    "    def __init__(main, url): # a constructor is used initialise the url\n",
    "      \n",
    "        HTMLParser.__init__(main)\n",
    "        main.url = url\n",
    "        main.links = []\n",
    "\n",
    "    def append(main):        \n",
    "        return main.links\n",
    "\n",
    "    def handle_starttag(main, tag, element): #the function is used to collect the hyperlink\n",
    "        for el in element:\n",
    "            elm = urljoin(main.url, el[1])\n",
    "            if elm[:4] == 'http': \n",
    "                main.links.append(elm)\n",
    "i = 0\n",
    "\n",
    "def webdir(url, depth, i):   \n",
    "\n",
    "    depth = depth - 1    \n",
    "    print(i*'  ', url)         #output is printed here\n",
    "\n",
    "    objective = urlopen(url).read().decode()\n",
    "    collection = Web(url)\n",
    "    collection.feed(objective)\n",
    "    urls = collection.append() \n",
    " \n",
    "    links = urls\n",
    "    i = i + 2                            # define the level of indent here\n",
    "    for link in links:\n",
    "        if i < 0 or depth < 0:\n",
    "            return 1\n",
    "        else:\n",
    "            webdir(link, depth, i)\n",
    "\n",
    "webdir('https://reed.cs.depaul.edu/lperkovic/test1.html', 2, 0)"
   ]
  },
  {
   "cell_type": "markdown",
   "id": "bd01fd0a",
   "metadata": {},
   "source": [
    "##### Question - 8\n",
    "##### Write SQL queries on the database table that return the mentioned values:"
   ]
  },
  {
   "cell_type": "code",
   "execution_count": 75,
   "id": "f39d7442",
   "metadata": {},
   "outputs": [],
   "source": [
    "# a) SELECT Temperature FROM TableName\n",
    "# b) SELECT DISTINCT City FROM TableName\n",
    "# c) SELECT * FROM TableName WHERE Country = 'India'\n",
    "# d) SELECT * FROM TableName WHERE Season = 'Fall'\n",
    "# e) SELECT City, Country, Season FROM TableName WHERE Rainfall BETWEEN 200 AND 400\n",
    "# f) SELECT City, Country FROM TableName WHERE Season='Fall' AND Temperature > 20 ORDER BY Temperature ASC\n",
    "# g) SELECT SUM(Rainfall) FROM TableName WHERE City='Cairo'\n",
    "# h) SELECT Season, SUM(Rainfall) FROM TableName GROUP BY Season"
   ]
  },
  {
   "cell_type": "markdown",
   "id": "ff4f890f",
   "metadata": {},
   "source": [
    "##### Question - 9\n",
    "##### Write list comprehension expressions that use list words and generate the mentioned lists:"
   ]
  },
  {
   "cell_type": "code",
   "execution_count": 17,
   "id": "bd3b8973",
   "metadata": {},
   "outputs": [
    {
     "name": "stdout",
     "output_type": "stream",
     "text": [
      "['THE', 'QUICK', 'BROWN', 'FOX', 'JUMPS', 'OVER', 'THE', 'LAZY', 'DOG'] \n",
      "\n",
      "['the', 'quick', 'brown', 'fox', 'jumps', 'over', 'the', 'lazy', 'dog'] \n",
      "\n",
      "[3, 5, 5, 3, 5, 4, 3, 4, 3] \n",
      "\n",
      "[['THE', 'the', 3], ['QUICK', 'quick', 5], ['BROWN', 'brown', 5], ['FOX', 'fox', 3], ['JUMPS', 'jumps', 5], ['OVER', 'over', 4], ['THE', 'the', 3], ['LAZY', 'lazy', 4], ['DOG', 'dog', 3]] \n",
      "\n",
      "['quick', 'brown', 'jumps', 'over', 'lazy'] \n",
      "\n"
     ]
    }
   ],
   "source": [
    "list = ['The', 'quick', 'brown', 'fox', 'jumps', 'over', 'the', 'lazy', 'dog'] #List of words defined\n",
    "\n",
    "upperCase = [i.upper() for i in list]           # print the list of words in Upper Case \n",
    "print(upperCase ,\"\\n\")\n",
    "\n",
    "lowerCase = [i.lower() for i in list]           # print the list of words in Lower Case\n",
    "print(lowerCase ,\"\\n\")\n",
    "\n",
    "lengthOfWord = [len(i) for i in list]           # print the length of every word in the defined list\n",
    "print(lengthOfWord ,\"\\n\")\n",
    "\n",
    "lowerUpperLength = [[i.upper(),i.lower(),len(i)] for i in list] # print the lower case, upper case and length of every word in the list\n",
    "print(lowerUpperLength ,\"\\n\")\n",
    "\n",
    "lenMoreThanFour = [i for i in list if len(i)>=4]    # print all the words in the list containing 4 or more characters\n",
    "print(lenMoreThanFour ,\"\\n\")"
   ]
  },
  {
   "cell_type": "markdown",
   "id": "a51b8427",
   "metadata": {},
   "source": [
    "### Thank you!"
   ]
  }
 ],
 "metadata": {
  "kernelspec": {
   "display_name": "Python 3 (ipykernel)",
   "language": "python",
   "name": "python3"
  },
  "language_info": {
   "codemirror_mode": {
    "name": "ipython",
    "version": 3
   },
   "file_extension": ".py",
   "mimetype": "text/x-python",
   "name": "python",
   "nbconvert_exporter": "python",
   "pygments_lexer": "ipython3",
   "version": "3.9.13"
  }
 },
 "nbformat": 4,
 "nbformat_minor": 5
}
